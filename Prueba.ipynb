{
 "cells": [
  {
   "cell_type": "code",
   "execution_count": 1,
   "metadata": {},
   "outputs": [],
   "source": [
    "from numpy import *"
   ]
  },
  {
   "cell_type": "code",
   "execution_count": 2,
   "metadata": {},
   "outputs": [],
   "source": [
    "fname = lambda x, y: y"
   ]
  },
  {
   "cell_type": "code",
   "execution_count": 3,
   "metadata": {},
   "outputs": [],
   "source": [
    "y0 = 1\n",
    "b  = 10.\n",
    "h  = 1e-1"
   ]
  },
  {
   "cell_type": "code",
   "execution_count": 4,
   "metadata": {},
   "outputs": [],
   "source": [
    "def euler(fname,y0,b,h):\n",
    "    t = arange(0,b,h)\n",
    "    y = zeros(len(t))\n",
    "    y[0] = y0\n",
    "    for i in range(len(y)-1):\n",
    "        y[i+1] = y[i] + h*fname(t[i],y[i])\n",
    "    return asarray([t,y])"
   ]
  },
  {
   "cell_type": "code",
   "execution_count": 5,
   "metadata": {},
   "outputs": [],
   "source": [
    "myres = euler(fname,y0,b,h)"
   ]
  },
  {
   "cell_type": "code",
   "execution_count": 6,
   "metadata": {},
   "outputs": [],
   "source": [
    "import matplotlib.pyplot as plt\n",
    "import matplotlib.animation as animation"
   ]
  },
  {
   "cell_type": "code",
   "execution_count": 7,
   "metadata": {},
   "outputs": [
    {
     "data": {
      "image/png": "[encoded data removed]",
      "text/plain": [
       "<Figure size 432x288 with 1 Axes>"
      ]
     },
     "metadata": {
      "needs_background": "light"
     },
     "output_type": "display_data"
    }
   ],
   "source": [
    "def update_line(num, myres, line):\n",
    "    line.set_data(myres[..., 0:num])\n",
    "    return line,\n",
    "\n",
    "fig = plt.figure()\n",
    "\n",
    "l, = plt.plot([], [], 'ro')\n",
    "plt.xlim(0, 15)\n",
    "plt.ylim(0, 4000)\n",
    "plt.xlabel('x')\n",
    "plt.title('test')\n",
    "line_ani = animation.FuncAnimation(fig, update_line, 100, fargs=(myres, l), interval=50, blit=True)\n",
    "\n",
    "line_ani.save('full_line.mp4')"
   ]
  },
  {
   "cell_type": "code",
   "execution_count": 8,
   "metadata": {},
   "outputs": [
    {
     "data": {
      "image/png": "[encoded data removed]",
      "text/plain": [
       "<Figure size 432x288 with 1 Axes>"
      ]
     },
     "metadata": {
      "needs_background": "light"
     },
     "output_type": "display_data"
    }
   ],
   "source": [
    "def update_line(num, myres, line):\n",
    "    line.set_data(myres[..., num-1:num])\n",
    "    return line,\n",
    "\n",
    "fig = plt.figure()\n",
    "\n",
    "l, = plt.plot([], [], 'ro')\n",
    "plt.xlim(0, 15)\n",
    "plt.ylim(0, 4000)\n",
    "plt.xlabel('x')\n",
    "plt.title('test')\n",
    "line_ani = animation.FuncAnimation(fig, update_line, 100, fargs=(myres, l), interval=50, blit=True)\n",
    "\n",
    "line_ani.save('only_traj.mp4')"
   ]
  },
  {
   "cell_type": "code",
   "execution_count": 9,
   "metadata": {},
   "outputs": [
    {
     "data": {
      "text/html": [
       "<video width=\"432\" height=\"288\" controls autoplay loop>\n",
       "  <source type=\"video/mp4\" src=\"data:video/mp4;base64,AAAAHGZ0eXBNNFYgAAACAGlzb21pc28yYXZjMQAAAAhmcmVlAAAg621kYXQAAAKuBgX//6rcRem9\n",
       "5tlIt5Ys2CDZI+7veDI2NCAtIGNvcmUgMTUyIHIyODU0IGU5YTU5MDMgLSBILjI2NC9NUEVHLTQg\n",
       "QVZDIGNvZGVjIC0gQ29weWxlZnQgMjAwMy0yMDE3IC0gaHR0cDovL3d3dy52aWRlb2xhbi5vcmcv\n",
       "eDI2NC5odG1sIC0gb3B0aW9uczogY2FiYWM9MSByZWY9MyBkZWJsb2NrPTE6MDowIGFuYWx5c2U9\n",
       "MHgzOjB4MTEzIG1lPWhleCBzdWJtZT03IHBzeT0xIHBzeV9yZD0xLjAwOjAuMDAgbWl4ZWRfcmVm\n",
       "PTEgbWVfcmFuZ2U9MTYgY2hyb21hX21lPTEgdHJlbGxpcz0xIDh4OGRjdD0xIGNxbT0wIGRlYWR6\n",
       "b25lPTIxLDExIGZhc3RfcHNraXA9MSBjaHJvbWFfcXBfb2Zmc2V0PS0yIHRocmVhZHM9NiBsb29r\n",
       "YWhlYWRfdGhyZWFkcz0xIHNsaWNlZF90aHJlYWRzPTAgbnI9MCBkZWNpbWF0ZT0xIGludGVybGFj\n",
       "ZWQ9MCBibHVyYXlfY29tcGF0PTAgY29uc3RyYWluZWRfaW50cmE9MCBiZnJhbWVzPTMgYl9weXJh\n",
       "bWlkPTIgYl9hZGFwdD0xIGJfYmlhcz0wIGRpcmVjdD0xIHdlaWdodGI9MSBvcGVuX2dvcD0wIHdl\n",
       "aWdodHA9MiBrZXlpbnQ9MjUwIGtleWludF9taW49MjAgc2NlbmVjdXQ9NDAgaW50cmFfcmVmcmVz\n",
       "aD0wIHJjX2xvb2thaGVhZD00MCByYz1jcmYgbWJ0cmVlPTEgY3JmPTIzLjAgcWNvbXA9MC42MCBx\n",
       "cG1pbj0wIHFwbWF4PTY5IHFwc3RlcD00IGlwX3JhdGlvPTEuNDAgYXE9MToxLjAwAIAAAAvHZYiE\n",
       "ADv//vdOvwKbRZdqA5JXCvbKpCZZuVJrAfKmAAADAAARzbfAx1YgPXulOenrDf1A+JUEBI92TqSJ\n",
       "ueM3ZOQI2co2ee9uIm8Dr0ssWIyUGO3UYMF6yvVsxXZlTNmsHKwyLeox7WtmxguDsKi0hRdspb0/\n",
       "wzEYzXWA4oHU46nPn16Q4TFPMpuwDm3vKgIx6qr9BAy/pghh7KqzCa8EnTFephav/nB7QAgF4+J+\n",
       "in/7+9rDGhiahehXqxdQFAh6YbtEq+1+oZE3ZxzSMtTnLfDgA6yUruJ8nA7R6hlI6ePmVCgfaX4x\n",
       "gnCMxA4UZK17UUM7cKYqTJAeZhEbXEcRy3319pvKkQmcv98ipEEDwNyjTgL72gI0G2msr30rdasR\n",
       "F2oAAAMAW2FL2UzX1xr+AJie98PmACG+gr76ovixH+3Gl1PmzXthXVVRdQEXSei+v7O8uToLo9hX\n",
       "zJOAm6Saex/M0PZDHwg4kTGyoD/yqZM0ju3dFTdKy0U39c6k91RmFNSCEOiyYseiqzKUpBqNfcb5\n",
       "mkqQWJsjKQhwNelXnQlJTVZRElAWTf+tDRnNQ5WVnw7SWQRWIDzN1g971MW+DCF7yedd+MhJY+RC\n",
       "buZ57Talmb+1f8sBOsoLg067Uf/unXYZLt2i853wQcpID2OjosWDsDSyjiw6kZCtAbO4vGS57c85\n",
       "xZuSLy8sw56ax11HWKR/oitd0FYGuJRDOhHuRPIyKNCHveTRxgoU/3qUIoBP6uZEMnZwuaXEOEpD\n",
       "+rwGbxFgEa5zfLlIptQDJA866HMXyNYckXrpHjnVp7h2JW6Bv7zFSepw5OdAiM0mWQLBzzDWSS1q\n",
       "5pZYHAUe34NV1QCcMkDvTGXx/jF/0Us1uuYxhUibqFstVfb1Gi4B7elckStXaYABH/MrWqN8nkyW\n",
       "oQBcLWUzRD/zE51ryk1NaVu+0lbVIklc/Di2fVKrRcryl03h/lfOoUBfUbJCqCwPpgR2FjGUUXk1\n",
       "4WkzJ9eprVBB0+t/fQYZn1UZgAAjv2fiPAhKnh1IDEPzJTNECLD52B8qXBg5zIyQYPsyk4w5UXOp\n",
       "HNLsMhtn1f6CfOfivkMDMjf9dozk0zj87Box/t4ck2h985iFipJeRbXvZQkfHTmp8JH8NjshT+xZ\n",
       "FsyTzM2E/i9VSoiXb1pX2UuVnmwnqvg50lKJmHpG+mT1TrqtphU1dYTRUwe8HkjVX9Qs7oVebh/8\n",
       "DdSkjjDDAG2pWZ+3YQZgIc3LP5Tw48RDuQSxwsnGfilBELkeVUMBWoNCjs9aarsLRrycooV0/mve\n",
       "kNA3Xofp9usEYACrMqt3BkQ8QAjW+v3vDGCwajMSHhyEhCvQ4N+tZvplUHtu99ttQBD6+H0okxJQ\n",
       "dEl8T6Bj1ATWjNIpFRItlgDP2g0CTbUsMRDzzRSTsvCO4W1CYXHd8ubyQ0f84QPO7qk0h4MeLmDq\n",
       "5kTIJl5BNPMXP7hpLcdIWptp0E09O3TKKtVtHeTClNlYM22RWv67eesjYBQg5Pm94w7khDaCLf4R\n",
       "bRAZM2deiiN8idWUN5KuJpxZbJRsXFsB575gChSm8SDwjwbOZiT5PqY0GEYNEwFNGPQX6Uy/sOzl\n",
       "a40UHWk/rUXslrSseFckBgie6REBdisvtl3oZs1Qnkic/ikOL1fa+ccZ6kfLHJZJ7swoE/m/gp95\n",
       "T940AOulEYyfz47a/i4eMtFz6jjMrMEzNJdmlnnUeoVK9mP/ai/qjta3M751I3pr1KrixwMScVgj\n",
       "VYSdfAMDAaKGu7fcOdWjTT2KbXTFv7eaNEpzMWCLmvmty6vAccGp1pUhMwBmEcuBLZXXBMvNOG0p\n",
       "zOdLOHBRN0GZlAVZiT4DQYxU4S4CnBY1YN5p6ZGJKQfxYOBeVPxI7hUo4xgKLo7zXnXOUnfnRNu+\n",
       "lxJuO93dqlDeVbXEXQPaFtDdseR/0aLcbEqjO7i4IF3JS2M6XN6MaT3287cy9HeggXri5VD3vynG\n",
       "+/zkQ3epwmQAtHycyNsKGnNMPxIkI8nZXhL9BWoI0/a9wMSx3J16o2H5T5OvyP0oOF1u8Y79GSEf\n",
       "/P68+aJJb/4t5c9/S/JoqXq1tcyDodK4PT5jOgM7L8bMHmKCX1EPUjqK9XpVKIK+BWZwsMuKNUtL\n",
       "YZDnjPWMxrIJ9t4QtfBPkDipLEUH7IN5cUdoV60tIGS4ywQXcQ5NNC93ADAY+3o6ogwAAAMAhqgm\n",
       "Tzfp7WDEKF3FdtiEb8j6UrQmi1/s4Fv9ndX7O6M3xoMXvgHlut11NfEXAJN6Gl7ase3nloMO+gdu\n",
       "rq5gHqdjVwqXVmIaeoS7/+j83gIjfzHvvLLXYFFIsPAUw0rSuOvyd1F7sVxfz4wrIBewKod2NkH9\n",
       "R8RmGXpDtul6lv8hRUiZcrolJjOxwu66jfEC3QpYAGtp275g7UFqRwncMymZRQwtI+wgSxpqqG7G\n",
       "tit7PkCZkdP/grusa5AZDvwksC7VCnQ9Hx+WY5gN0MUJALWuul+ieiypsxgA5oLuqentLHXCMTXH\n",
       "hh/oigt2eXKhN4IopMZWtcxDGdmqpYJt3Cb1UETjZa962Av3wAb0n8zhpqYlDHCRfsvcRUsD8Vpe\n",
       "jUBwAQVTerLicT7URDE+3fNJhmUAI/2WyX1fWgK5Npd3ycTyYvTyN9rvzB1ub2vlaXUauKRPVZIP\n",
       "E7EQO2Iv1Si+wYViSvbIEIgrS2I9aDueG2Yci5gQUEgVh0RjNTggSQZ5BuRrTwlsgskJiELLcRb8\n",
       "sjETPP9vgYmzSH6MmIFrpmNjFR0kbqmPhfEHyn4wnwqShuO6VAB7t+7IC7+i6SgmuM/5PVKqAiRc\n",
       "Tq+sCr2y3lyyomIHcfYmjjlmcxjFTh4cfvDvp/tk/n48Tk+n1QfvWFlX5DZ9WXDiQVSokIND743u\n",
       "++FDTDRtGeBRFv/+sBW5/4pPtT5ZqY0ua6kpdT7WSXMfayH6e+vmRPtxct+s8+9gqUbhvnHdjLlR\n",
       "G9BnapghDurOH0w3mvk0R0CmuPS2QAi3B2F/dSTVmS01x6WyAEWJn3B7JZdyzSlzxDMtK/oAT4G3\n",
       "FipI+xZg/F28qi3X52Jr1RAwVfphMBb4fefPhocBf0/G1shAfcfejV4DKi5bGmsvV5WNBX9F1ZxH\n",
       "6v9YiBS8o5sOlLYWYBtlvXxusL662wCXY3iZ3dCJrTWzr1Nq0fxvhv/Z4n3IXjt0MqQMWyXD2faf\n",
       "XoemRhwdVNzziQTu2yJERAI8BX/VlG54aK1XgmntluHY9xGpFLCa84ZXIe1o1Jx6jJT9ps8pJDka\n",
       "zFG0BBzenf4Hp5SUA4yoqyfTqX3+SJ5lKV0Nd6juBIjPN9Bil81y3fIUPwp1J/sc9h7IEs6xONi4\n",
       "tH++GXm/ahwRwY9yqDk5No6M0FRum+kogIRhaArSeHtM5SmTueqXqmOkeYVtVLsknQE8pKVSlfnZ\n",
       "vLwif/YLzoynlEydd6O7zaczktv0VeIlNyifcZuQ7akT1bPGv8ip/PH64SG/5SfCr0AFy7cZ11oj\n",
       "EUkRZriZ8PxXhKJk+GnDj/ZxguSSyVx/xo0JoPInypl/Sd1Jqf6dgulp/eQqlHZu/X5X83ngg0mP\n",
       "fzS7RaZVcxT2y+H3j0RYrHMLjszXKorl+N9X69sVnzGoDVn48qyhQuVUAPyeeXGfwpgsT7nqqX3H\n",
       "HIBwWKZoH2XPpH7+X7TWEzMvfIDh01+xvTuKSKNXKvWF2aIDwjY/ghwpcja9RAUk9MtEvI1CHAtL\n",
       "GiM1X95tXmO7gd08N/WxLDsGODyJfQX2xNazNuZ7noPfL2B+kumhFOMcCFY7S40JM7Ek0cQzdeAq\n",
       "SQ351p3bsIUaHWmJI1CjQ2+BVwqKCJq0tCUt5ZaqfO5kvU99+J1eicsDjMEjWZ1exm7QF74M3+hT\n",
       "5XiUS2LeQGChulm/7Q3zTT0Gj81y52wX6pMSx8OSZOPrZ6dwd8me9fHVpbCn9rT8Bs7aWojKSzpd\n",
       "IDkrh3DaNKVA+4/01cH0E0mWXvxfYPW4tznd4nZGZFq5aAB/Ep6J+Vwkq/ZgAG1BAAABgkGaJGxD\n",
       "f/6nhCaZGvriPwB6gf51lZvpuhqTMGuvEiSzW15I7uoC4spn9zxZl1B5Kp2hudf8wQVv2H/37OgH\n",
       "yPyilsU83dCpkA5pmPyBPnxsl3q7gou9iCe8nU+Ylij3dDff3RTyUP6ItSdF+qaZNwvj13A7/uy1\n",
       "TLDdIqERdNI2dALYQP8x8D5ESqy66S/L3bvndkZ7Q3Iqh0OmV47o8FDXj8ZvHy6EmG+wxR6O8wbE\n",
       "RQgiQ5ck0CBWLwSJCxxWu66z218etSFdaEv0pHlOu/4nP9y6/tgguQdN8f3MVFCnH2WbgE9PbZ6D\n",
       "ycEW4XQ9lqCqtO7ZcIu5qv0cSshLqG9ZClv80L4hiZayRFKGm375NSvzFJOXyExH0snfuaEPMWN4\n",
       "6hhdgHBDQhvBpDlSABjwseWBE4RD4t3706v2JTui7p98RvgTzMxLkpX2y1OsYlwJq2Uv7nSE42Pc\n",
       "OBelnlB5zh1FIjn5/eaGSdGZZW2YlD5qUCfpqpA+uPQyFb3YpplNAAAAX0GeQniGfwIFdQGk3WgB\n",
       "NM1ypFLxZ/O2v41JPEQxprBd1KRqn4O7eYtRcdkFXaaiqZYhWecW+E1IISdA2+5BpxtcLRQoaAzP\n",
       "WOG5tbhA8zKMNWAH8HBkSJG2uM6+HASlAAAAQwGeYXRCvwOAqTYJJg8rDiXJUGSwHBFXPXpesdS/\n",
       "f/ewoW1RBKOVPCEMOlL5LPHgViXuI7tpPfBZnY6ZkTng9ReNgT8AAAA6AZ5jakK/A4CpHu6aoKaG\n",
       "W9sU0eNhg4kE81RlszTpPVFkPK4aqHJr+59+oJ2AE34qdmoVFdvtywdLQQAAAHZBmmVJqEFomUwI\n",
       "d//+qZYD9LCYAU5488lv/cZq+ZSu2XPdOKZE6LcOEf6J6Xf1cbHzugT30DsdPB/nFaxqpZhvimFi\n",
       "En1MEy1LIj96nhCeZ7uWq7kaaq66V7/SeXHoX873gXWb5VLwA7SE2G6ffZj03LJGiIQdAAAATkGa\n",
       "hknhClJlMCHf/qmWA4IDDoAs7l2jI1WyuDbEk3qWAkwPrzJdBxmnfJ/yAY94zbYHC0o6dZ7Y0ey3\n",
       "peHHFf9CrI+yoAMQRPykQOUYgQAAAEhBmqlJ4Q6JlMCHf/6plgAABvE1eSHPXANWC05oCM4pRtTJ\n",
       "1w0gRw4Q70ClX1C82g/PbI/S+3MQ/8lzxpmy5fFPaEfhl2L7i4EAAAAfQZ7HRRE8L/8BurneDMYO\n",
       "mTc7p0E1L4pJXC4Jhy0wdAAAABUBnuhqQr8CXspSzN1BYGqmOOwSsEAAAAAgQZrrSahBaJlMFPDv\n",
       "/qmWAAAGytFFbgADuQ2oxWvEwekAAAAZAZ8KakK/Al9evp0Zujg+6IMtGGwqLCQ+4AAAACJBmw5J\n",
       "4QpSZTAh3/6plgAABssUtb38xnwAjFPCpSX5x0SoAAAAHEGfLEU0TC//AcPjEVzAacuOCcTNOHTn\n",
       "ZtInNHUAAAAVAZ9NakK/Al7KUszdQWBqoOy5JWlBAAAAGEGbUUmoQWiZTAh3//6plgAABqIILsRf\n",
       "YQAAABtBn29FESwv/wHEEZrydhUKTBN1dzcnjxG1fA4AAAAVAZ+QakK/Al7KUszdQV4gIOZkSrfg\n",
       "AAAAKkGblUmoQWyZTAh3//6plgAABqviBTs24l0AJ1rvVNwiQ/hjGeE5leziFQAAAC9Bn7NFFSwz\n",
       "/wFQrv5DMjHMD/0I9IXVW5AA594uWKYeLv43hmIEc4FcATVnsAox5AAAABcBn9J0Qr8CXcBSy5/7\n",
       "munTM/pm3QEPgAAAACsBn9RqQr8CXspSzN1BXiAgTVYgBLbwTjPrSImo3MUKPhG7CMmfYOMCF2NJ\n",
       "AAAAM0Gb10moQWyZTBRMO//+qZYAAAar4gFXRjIwdAAvmu9UqnB8fhy9OJxd+4IBUeahAN8imAAA\n",
       "ACkBn/ZqQr8CX16+nRm6OD7oPjQrWVACZ81hiBQoBnTucKxMwz1sy4auQQAAAEhBm/lJ4QpSZTBS\n",
       "w//+qZYAAAZ7FLbUqACH7VTHj2YwxtSf0he9KnDjNmsG88zWdHn+hGZX7Mr1tbG6+mNYWnp2wbSc\n",
       "EOOrdHEAAAAcAZ4YakK/ABcLcvMNbdk/5gACcW3bDASwe3zGMAAAABtBmh1J4Q6JlMCH//6plgAA\n",
       "Bnx4xmxwE/xNRoEAAAAVQZ47RRU8M/8ADG8RzHa+Wjbgp+cQAAAAEgGeWnRCvwAXRMM1JPahGqhz\n",
       "iQAAABIBnlxqQr8AF0r/dSTG6wOngBMAAAAuQZpBSahBaJlMCHf//qmWAAAGUgl7aoAM3Mnc8fKq\n",
       "E/4YeIvnVXvebIn4lBJxLgAAABZBnn9FESwz/wAMkw5B2mJp/k3iaJbAAAAAEAGennRCvwAXRMM1\n",
       "HTfzkuEAAAATAZ6AakK/ABdK/3UZz6N8ysHAwAAAAEJBmoRJqEFsmUwIf//+qZYAAAZb4wga0qTS\n",
       "6DgAvm066HyCtP4NttmnQP/Gl4LUJypTAKEEyqhjllAsllMk7bqjh6EAAAAdQZ6iRRUsL/8AEN85\n",
       "g7THTUwyxYZgAkTP7YyySsAAAAAUAZ7DakK/ABdK/3UduFEY6oPZcIEAAABNQZrISahBbJlMCHf/\n",
       "/qmWAAAGW+H7BI39wAbReIdw1yVNXzQebm47nuIsYr/DHcWqvzjJFrxceWt+MeRooyr8yIzBB0N4\n",
       "k7XKlEnr2M0AAAAkQZ7mRRUsM/8ADJMOQdpdTGkoJXIAEQevBZ7fnLknTn/G6EUfAAAAIAGfBXRC\n",
       "vwAXRMM1HaC0J2aWvAA2o0rWEKCoSZWba5bBAAAAHwGfB2pCvwAXSv91FQ8LUaHgBCm8QFaRFOn7\n",
       "+ex8BrYAAABAQZsLSahBbJlMCHf//qmWAAAGLTYXwpvjL1YQQpNoAAhJmRzIm64ZzTy+B3qHzUqt\n",
       "tGcSKXulNEomR1j6M1exHAAAAChBnylFFSwv/wAQ3zmDsuVOPdABtR64S60w1N8hixreafrAZsWu\n",
       "8ITBAAAAIgGfSmpCvwAXSv91FsJ0AE7Z20mLN/DIErqZm4Sxe5hThMAAAABCQZtOSahBbJlMCH//\n",
       "/qmWAAAGAWMKXwMXiRVylAA672t8zlVOOPiaKgJVwnDmuYRvxRz45Dm/L1MMKelw1yYL2mmgAAAA\n",
       "H0GfbEUVLC//ABDfOYOxl4bwFBB5sxGADb9zYEbZlIEAAAAQAZ+NakK/ABdK/3UNSyjBIQAAAD1B\n",
       "m5JJqEFsmUwId//+qZYAAAYC0dtZnx+7bTYiwuADIK1oQJqOc7dugk2VUu3jKbPUDzBISzB2eM3D\n",
       "kf4hAAAALkGfsEUVLDP/AAyTDkHxBk/NSOXpnvnb7IVIAJsTJLScpNMSu55mZqQXKgxbbIAAAAAa\n",
       "AZ/PdEK/ABdEwzUJ1O/fgA7iyP8k1gMRt6gAAAAVAZ/RakK/ABdK/3YLjaelKLopt65RAAAAJEGb\n",
       "1kmoQWyZTAh3//6plgAABeFZ0eL6jgAGf08VZ4GpO8zongAAACJBn/RFFSwz/wAMkw5B8Q7O8oWe\n",
       "RHhB9FkOToAFu4BbHc7sAAAAGgGeE3RCvwAXRMM2CpSPGwCAD7djaktep++9AAAAEQGeFWpCvwAX\n",
       "Sv91BUsoPAowAAAAU0GaGUmoQWyZTAhv//6nhAAAFs3988QjeACPD5nLQG/fVZmtqjJTPpfjVx5q\n",
       "9mJxortNF0y5/TJWNvfB1dSrSgSzt6vJI6eW2EPBfUShSej9yjLdAAAAGEGeN0UVLC//ABDfOYPf\n",
       "kuiHD8cW5f3/4wAAABcBnlhqQr8AF0r/dgqg/krlQEfe2baG4AAAACVBmlpJqEFsmUwIb//+p4QA\n",
       "ABasZy1n6/S108FRttsFF9xPfOeTAAAAKUGafEnhClJlMFFSw3/+p4QAABa7Ym25aHgAk/6ZIUxy\n",
       "Q8M71KhazN/QAAAAFgGem2pCvwAXC3LzF+hXLxODFfp9pPMAAAAiQZqdSeEOiZTAh3/+qZYAAAtu\n",
       "nisCuuS0oSh1346TnwdzoQAAAB1Bmr9J4Q8mUwUVPDv//qmWAAALboqS/g1T5s67GAAAABMBnt5q\n",
       "Qr8AFwty8xfh8JE68AkNAAAANEGawUnhDyZTBTw3//6nhAAALDqgDe8kTF/03uqVoGVzaAddvskZ\n",
       "yDlIwJf4YS7cgWqTGUcAAAATAZ7gakK/ABcLcvMX435EopCZgAAAACRBmuNJ4Q8mUwU8N//+p4QA\n",
       "ACw4eP1cwADuSEAMxLF7Yt9zfjEAAAATAZ8CakK/ABcLcvMujpswi2tyhgAAADZBmwRJ4Q8mUwIb\n",
       "//6nhAAALEHZWDG+NABKARVgGyn+NuCI5YMQHXwwgp0gQkvRnx8Swcf5scEAAAAnQZsmSeEPJlMF\n",
       "ETw3//6nhAAALDh5AkcyeYDGAFWsiFg5V8J7AtjhAAAAFAGfRWpCvwAXC3LzLo6a4dyACFuBAAAA\n",
       "K0GbR0nhDyZTAhv//qeEAABYfa6kAUm5LulqGxapKgbQSd86/6QVhFmWQ4EAAAAeQZtoSeEPJlMC\n",
       "Hf/+qZYAACzc88XjxAuWrE2mEkHNAAAAMkGbiknhDyZTBRE8N//+p4QAAKxqgeVvWJstUYFET6fr\n",
       "sChDTXaWgDiDgyIFqHROGzRoAAAAEwGfqWpCvwAXC3LzWt012ahydc0AAAAfQZurSeEPJlMCHf/+\n",
       "qZYAAFb08RtIyADm4k9p21d+8wAAACZBm8xJ4Q8mUwId//6plgAAVxioRtdIZ8cEC7AXxZUhAip4\n",
       "up2vQAAAAF9Bm+9J4Q8mUwId//6plgABVOFvnmXsJgBCdd6ptNqW65T6vJ9hy4hZITX8p4Ry00nr\n",
       "xjdASlIuR1J53nQAa7ACMqmFoxw3k/CJdErw6qy9+qIUHE3gSXbjuvO3O8Jd6QAAACJBng1FETwv\n",
       "/wAQqLqbpXGZpWlGMtMyFNc8AB30/hI0fAoFAAAANgGeLmpCvwAXSv+va/pPa4P1+toArfnRkK5I\n",
       "d+uZ0OGMqtDm4uVVrBVAfNBvQkeBrpouKERzgwAAAG9BmjFJqEFomUwU8P/+qZYAAqnC36MvhQ7Q\n",
       "AS5I9O1MJ82ks0S2ARUf+PITEVbkh/kHCVsfz/LS405VKsgW6cje+OA8rxo0a5HDlTlyL4x5KWVP\n",
       "a0kwwOmLdqwkn5VwN/vRO+Ecfy3BKaWUY6qHni4AAAAUAZ5QakK/ABdOTOu4gkl3mMLduLAAAABw\n",
       "QZpVSeEKUmUwIf/+qZYAFU4W/EeXqYAMu+RLjHtU8E8do+5N9OF+Jp0o1CzxJM2l/0gVngXfMaqd\n",
       "zFv0TtoNBmhMq1F/5bNLFeuKuoV5ydrJ3gW4CCG/kFJQX4At6vClbyYt2wLVdMrFrVQeqHuk3QAA\n",
       "AGZBnnNFNEwz/wASW4gINQ8R0w4xBM+qjCuAA5/41bxNM3HjUDwjnYsSplce/BRtKR/SZLt4Um2J\n",
       "AO0HyNSnivnwpHfVMg5e7nciRniKOkhbw+E+TielcvYHfYoi8DbjGef40RHfnKgAAAAYAZ6SdEK/\n",
       "ABdEx6mwKiIFL+N65I15Ff5gAAAAYQGelGpCvwAhuu5kBqyKvCGLcpgBbxxJqIM0oVyT2DrcDTJq\n",
       "/DxHeXqdRoy/2BMgPfXK9XiYCXwD3x6ydyTMPsTwqDBvcuVUI8xwt5QFeM92tSdIfD5+sEcZJJeX\n",
       "USRnEWUAAAAbQZqZSahBaJlMCHf//qmWABVPgDGc4n4OsBxwAAAAWkGet0URLDP/AEawVhF3sXJM\n",
       "AHNFK9kD3td69JPMztdOqaoWrHxLujv0Btam28xjC64sjRtoApNJHf0DO622cWs5Ae5G5gJuakWY\n",
       "sJIYShqAeBE244jNll4ZUQAAAFMBntZ0Qr8AhvgyKLvDC8mf/tmgBNM2hdFSUAsnkKsF5/ETKmky\n",
       "O6K6oLHxfxx4KUEfG72uvHzWr9k1WN/OE8/Hxrs7rDBSHsUTTK0wC30b3uONCQAAAEIBnthqQr8B\n",
       "A3zJT9H2HgAThYgwLS0LejMwxz3F8cLrBtMuG/dshh3/UZLEwJh+KfzK2gnyVp70UlMc4Zf+RHZO\n",
       "MqAAAAAVQZrdSahBbJlMCHf//qmWAAADAPCBAAAAEEGe+0UVLDP/AAxvEcxw+YAAAAANAZ8adEK/\n",
       "ABdEwzQrYQAAAA0BnxxqQr8AF0r/dCthAAAAE0GbAUmoQWyZTAhn//6eEAAAB0wAAAAPQZ8/RRUs\n",
       "M/8ADJMOQcPmAAAADQGfXnRCvwAXRMM0K2EAAAANAZ9AakK/ABdK/3QrYAAAABRBm0NJqEFsmUwU\n",
       "TCv//jhAAAAccQAAAA0Bn2JqQr8AF05Mxw1IAAAHhm1vb3YAAABsbXZoZAAAAAAAAAAAAAAAAAAA\n",
       "A+gAABOIAAEAAAEAAAAAAAAAAAAAAAABAAAAAAAAAAAAAAAAAAAAAQAAAAAAAAAAAAAAAAAAQAAA\n",
       "AAAAAAAAAAAAAAAAAAAAAAAAAAAAAAAAAAAAAAIAAAawdHJhawAAAFx0a2hkAAAAAwAAAAAAAAAA\n",
       "AAAAAQAAAAAAABOIAAAAAAAAAAAAAAAAAAAAAAABAAAAAAAAAAAAAAAAAAAAAQAAAAAAAAAAAAAA\n",
       "AAAAQAAAAAGwAAABIAAAAAAAJGVkdHMAAAAcZWxzdAAAAAAAAAABAAATiAAABAAAAQAAAAAGKG1k\n",
       "aWEAAAAgbWRoZAAAAAAAAAAAAAAAAAAAKAAAAMgAVcQAAAAAAC1oZGxyAAAAAAAAAAB2aWRlAAAA\n",
       "AAAAAAAAAAAAVmlkZW9IYW5kbGVyAAAABdNtaW5mAAAAFHZtaGQAAAABAAAAAAAAAAAAAAAkZGlu\n",
       "ZgAAABxkcmVmAAAAAAAAAAEAAAAMdXJsIAAAAAEAAAWTc3RibAAAALNzdHNkAAAAAAAAAAEAAACj\n",
       "YXZjMQAAAAAAAAABAAAAAAAAAAAAAAAAAAAAAAGwASAASAAAAEgAAAAAAAAAAQAAAAAAAAAAAAAA\n",
       "AAAAAAAAAAAAAAAAAAAAAAAAAAAAABj//wAAADFhdmNDAWQAFf/hABhnZAAVrNlBsJaEAAADAAQA\n",
       "AAMAoDxYtlgBAAZo6+PLIsAAAAAcdXVpZGtoQPJfJE/FujmlG88DI/MAAAAAAAAAGHN0dHMAAAAA\n",
       "AAAAAQAAAGQAAAIAAAAAFHN0c3MAAAAAAAAAAQAAAAEAAALYY3R0cwAAAAAAAABZAAAAAQAABAAA\n",
       "AAABAAAKAAAAAAEAAAQAAAAAAQAAAAAAAAABAAACAAAAAAIAAAQAAAAAAQAACAAAAAACAAACAAAA\n",
       "AAEAAAYAAAAAAQAAAgAAAAABAAAIAAAAAAIAAAIAAAAAAQAACAAAAAACAAACAAAAAAEAAAoAAAAA\n",
       "AQAABAAAAAABAAAAAAAAAAEAAAIAAAAAAQAABgAAAAABAAACAAAAAAEAAAYAAAAAAQAAAgAAAAAB\n",
       "AAAKAAAAAAEAAAQAAAAAAQAAAAAAAAABAAACAAAAAAEAAAoAAAAAAQAABAAAAAABAAAAAAAAAAEA\n",
       "AAIAAAAAAQAACAAAAAACAAACAAAAAAEAAAoAAAAAAQAABAAAAAABAAAAAAAAAAEAAAIAAAAAAQAA\n",
       "CAAAAAACAAACAAAAAAEAAAgAAAAAAgAAAgAAAAABAAAKAAAAAAEAAAQAAAAAAQAAAAAAAAABAAAC\n",
       "AAAAAAEAAAoAAAAAAQAABAAAAAABAAAAAAAAAAEAAAIAAAAAAQAACAAAAAACAAACAAAAAAEAAAQA\n",
       "AAAAAQAABgAAAAABAAACAAAAAAEAAAQAAAAAAQAABgAAAAABAAACAAAAAAEAAAYAAAAAAQAAAgAA\n",
       "AAABAAAGAAAAAAEAAAIAAAAAAQAABAAAAAABAAAGAAAAAAEAAAIAAAAAAgAABAAAAAABAAAGAAAA\n",
       "AAEAAAIAAAAAAgAABAAAAAABAAAIAAAAAAIAAAIAAAAAAQAABgAAAAABAAACAAAAAAEAAAoAAAAA\n",
       "AQAABAAAAAABAAAAAAAAAAEAAAIAAAAAAQAACgAAAAABAAAEAAAAAAEAAAAAAAAAAQAAAgAAAAAB\n",
       "AAAKAAAAAAEAAAQAAAAAAQAAAAAAAAABAAACAAAAAAEAAAoAAAAAAQAABAAAAAABAAAAAAAAAAEA\n",
       "AAIAAAAAAQAABgAAAAABAAACAAAAABxzdHNjAAAAAAAAAAEAAAABAAAAZAAAAAEAAAGkc3RzegAA\n",
       "AAAAAAAAAAAAZAAADn0AAAGGAAAAYwAAAEcAAAA+AAAAegAAAFIAAABMAAAAIwAAABkAAAAkAAAA\n",
       "HQAAACYAAAAgAAAAGQAAABwAAAAfAAAAGQAAAC4AAAAzAAAAGwAAAC8AAAA3AAAALQAAAEwAAAAg\n",
       "AAAAHwAAABkAAAAWAAAAFgAAADIAAAAaAAAAFAAAABcAAABGAAAAIQAAABgAAABRAAAAKAAAACQA\n",
       "AAAjAAAARAAAACwAAAAmAAAARgAAACMAAAAUAAAAQQAAADIAAAAeAAAAGQAAACgAAAAmAAAAHgAA\n",
       "ABUAAABXAAAAHAAAABsAAAApAAAALQAAABoAAAAmAAAAIQAAABcAAAA4AAAAFwAAACgAAAAXAAAA\n",
       "OgAAACsAAAAYAAAALwAAACIAAAA2AAAAFwAAACMAAAAqAAAAYwAAACYAAAA6AAAAcwAAABgAAAB0\n",
       "AAAAagAAABwAAABlAAAAHwAAAF4AAABXAAAARgAAABkAAAAUAAAAEQAAABEAAAAXAAAAEwAAABEA\n",
       "AAARAAAAGAAAABEAAAAUc3RjbwAAAAAAAAABAAAALAAAAGJ1ZHRhAAAAWm1ldGEAAAAAAAAAIWhk\n",
       "bHIAAAAAAAAAAG1kaXJhcHBsAAAAAAAAAAAAAAAALWlsc3QAAAAlqXRvbwAAAB1kYXRhAAAAAQAA\n",
       "AABMYXZmNTcuODMuMTAw\n",
       "\">\n",
       "  Your browser does not support the video tag.\n",
       "</video>"
      ],
      "text/plain": [
       "<IPython.core.display.HTML object>"
      ]
     },
     "execution_count": 9,
     "metadata": {},
     "output_type": "execute_result"
    }
   ],
   "source": [
    "from IPython.display import HTML\n",
    "HTML(line_ani.to_html5_video())"
   ]
  },
  {
   "cell_type": "code",
   "execution_count": 10,
   "metadata": {},
   "outputs": [],
   "source": [
    "Nsphere = 10\n",
    "G = 6.67259*(10^(-11))\n",
    "h = 5000\n",
    "b = 10000000"
   ]
  },
  {
   "cell_type": "code",
   "execution_count": 11,
   "metadata": {},
   "outputs": [],
   "source": [
    "M = zeros((Nsphere,1))\n",
    "M[0] = 1.9889e+30  # Masa Sol\n",
    "M[1] = 0.33*(10^24)# Masa Mercurio\n",
    "M[2] = 4.87*(10^24)# Masa Venus\n",
    "M[3] = 5.97*(10^24)# Masa Tierra\n",
    "M[4] = 0.642*(10^24)# Masa Marte\n",
    "M[5] = 1899*(10^24)# Masa Jupiter\n",
    "M[6] = 568*(10^24)# Masa Saturno\n",
    "M[7] = 86.8*(10^24)# Masa Urano\n",
    "M[8] = 102*(10^24)# Masa Neptuno\n",
    "M[9] = 0.0125*(10^24)# Masa Pluton"
   ]
  },
  {
   "cell_type": "code",
   "execution_count": 12,
   "metadata": {},
   "outputs": [],
   "source": [
    "r = zeros((Nsphere,2))\n",
    "r[0,:] = [0, 0]            # Sol\n",
    "r[1,:] = [57.9*(10^9), 0]   # Mercurio\n",
    "r[2,:] = [108.2*(10^9), 0]  # Venus\n",
    "r[3,:] = [149.6*(10^9), 0]  # Tierra\n",
    "r[4,:] = [227.9*(10^9), 0]  # Marte\n",
    "r[5,:] = [778.6*(10^9), 0]  # Jupiter\n",
    "r[6,:] = [1433.5*(10^9), 0] # Saturno\n",
    "r[7,:] = [2872.5*(10^9), 0] # Urano\n",
    "r[8,:] = [4495.1*(10^9), 0] # Neptuno\n",
    "r[9,:] = [5870.0*(10^9), 0] # Pluton"
   ]
  },
  {
   "cell_type": "code",
   "execution_count": 13,
   "metadata": {},
   "outputs": [],
   "source": [
    "v = zeros((Nsphere,2));\n",
    "v[0,:] = [0, 0]\n",
    "v[1,:] = [0, 47.89*(10^3)]\n",
    "v[2,:] = [0, 35.03*(10^3)]\n",
    "v[3,:] = [0, 29.79*(10^3)]\n",
    "v[4,:] = [0, 24.13*(10^3)]\n",
    "v[5,:] = [0, 13.06*(10^3)]\n",
    "v[6,:] = [0, 9.64*(10^3)]\n",
    "v[7,:] = [0, 6.80*(10^3)]\n",
    "v[8,:] = [0, 5.40*(10^3)]\n",
    "v[9,:] = [0, 4.70*(10^3)]"
   ]
  },
  {
   "cell_type": "code",
   "execution_count": 14,
   "metadata": {},
   "outputs": [],
   "source": [
    "fk = lambda r: r / ((linalg.norm(r))**3)"
   ]
  },
  {
   "cell_type": "code",
   "execution_count": 15,
   "metadata": {},
   "outputs": [],
   "source": [
    "def fNB(r,M,k,Nsphere):\n",
    "    a = zeros((Nsphere,2))\n",
    "    for p in range(Nsphere):\n",
    "        for n in range(Nsphere):\n",
    "            if (n != p):\n",
    "                a[p,:] += M[n]*k(r[n,:]-r[p,:])\n",
    "    return a"
   ]
  },
  {
   "cell_type": "code",
   "execution_count": 16,
   "metadata": {},
   "outputs": [],
   "source": [
    "fname = lambda r,M,k,Nsphere: fNB(r,M,k,Nsphere)"
   ]
  },
  {
   "cell_type": "code",
   "execution_count": 17,
   "metadata": {},
   "outputs": [],
   "source": [
    "from pdb import *"
   ]
  },
  {
   "cell_type": "code",
   "execution_count": 18,
   "metadata": {},
   "outputs": [],
   "source": [
    "def euler_fNB(fNB,h,G,b,v0,r0,M,fk,Nsphere):\n",
    "    R = zeros((Nsphere,2,int(b/h)))\n",
    "    vt = v0\n",
    "    rt = r0\n",
    "    i = 0\n",
    "    tt = arange(0,b,h)\n",
    "    for t in tt:\n",
    "        #set_trace()\n",
    "        a = fNB(rt,M,fk,Nsphere)\n",
    "        v = vt + h*G*a\n",
    "        r = rt + h*vt\n",
    "        vt = v\n",
    "        rt = r\n",
    "        R[:,:,i] = rt\n",
    "        i = i+1\n",
    "    return R"
   ]
  },
  {
   "cell_type": "code",
   "execution_count": 19,
   "metadata": {},
   "outputs": [],
   "source": [
    "R = euler_fNB(fname,h,G,b,v,r,M,fk,Nsphere)"
   ]
  },
  {
   "cell_type": "code",
   "execution_count": 20,
   "metadata": {},
   "outputs": [
    {
     "data": {
      "text/plain": [
       "(2, 2000)"
      ]
     },
     "execution_count": 20,
     "metadata": {},
     "output_type": "execute_result"
    }
   ],
   "source": [
    "R[0,:,:].shape"
   ]
  },
  {
   "cell_type": "code",
   "execution_count": 21,
   "metadata": {},
   "outputs": [
    {
     "data": {
      "text/plain": [
       "[<matplotlib.lines.Line2D at 0x7fb793dd8160>]"
      ]
     },
     "execution_count": 21,
     "metadata": {},
     "output_type": "execute_result"
    },
    {
     "data": {
      "image/png": "[encoded data removed]",
      "text/plain": [
       "<Figure size 432x288 with 1 Axes>"
      ]
     },
     "metadata": {
      "needs_background": "light"
     },
     "output_type": "display_data"
    }
   ],
   "source": [
    "plt.plot(R[1,0,:],R[1,1,:],'bo')"
   ]
  },
  {
   "cell_type": "code",
   "execution_count": null,
   "metadata": {},
   "outputs": [],
   "source": []
  }
 ],
 "metadata": {
  "kernelspec": {
   "display_name": "Python 3",
   "language": "python",
   "name": "python3"
  },
  "language_info": {
   "codemirror_mode": {
    "name": "ipython",
    "version": 3
   },
   "file_extension": ".py",
   "mimetype": "text/x-python",
   "name": "python",
   "nbconvert_exporter": "python",
   "pygments_lexer": "ipython3",
   "version": "3.6.7"
  }
 },
 "nbformat": 4,
 "nbformat_minor": 2
}
