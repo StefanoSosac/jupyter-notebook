{
 "cells": [
  {
   "cell_type": "code",
   "execution_count": 1,
   "metadata": {},
   "outputs": [],
   "source": [
    "from numpy import *"
   ]
  },
  {
   "cell_type": "code",
   "execution_count": 2,
   "metadata": {},
   "outputs": [],
   "source": [
    "fname = lambda x, y: y"
   ]
  },
  {
   "cell_type": "code",
   "execution_count": 3,
   "metadata": {},
   "outputs": [],
   "source": [
    "y0 = 1\n",
    "b  = 10.\n",
    "h  = 1e-1"
   ]
  },
  {
   "cell_type": "code",
   "execution_count": 4,
   "metadata": {},
   "outputs": [],
   "source": [
    "def euler(fname,y0,b,h):\n",
    "    t = arange(0,b,h)\n",
    "    y = zeros(len(t))\n",
    "    y[0] = y0\n",
    "    for i in range(len(y)-1):\n",
    "        y[i+1] = y[i] + h*fname(t[i],y[i])\n",
    "    return asarray([t,y])"
   ]
  },
  {
   "cell_type": "code",
   "execution_count": 5,
   "metadata": {},
   "outputs": [
    {
     "data": {
      "text/plain": [
       "(2, 100)"
      ]
     },
     "execution_count": 5,
     "metadata": {},
     "output_type": "execute_result"
    }
   ],
   "source": [
    "myres = euler(fname,y0,b,h)"
   ]
  },
  {
   "cell_type": "code",
   "execution_count": 6,
   "metadata": {},
   "outputs": [],
   "source": [
    "import matplotlib.pyplot as plt\n",
    "import matplotlib.animation as animation"
   ]
  },
  {
   "cell_type": "code",
   "execution_count": null,
   "metadata": {},
   "outputs": [],
   "source": [
    "def update_line(num, myres, line):\n",
    "    line.set_data(myres[..., 0:num])\n",
    "    return line,\n",
    "\n",
    "fig = plt.figure()\n",
    "\n",
    "l, = plt.plot([], [], 'ro')\n",
    "plt.xlim(0, 15)\n",
    "plt.ylim(0, 4000)\n",
    "plt.xlabel('x')\n",
    "plt.title('test')\n",
    "line_ani = animation.FuncAnimation(fig, update_line, 100, fargs=(myres, l), interval=50, blit=True)\n",
    "\n",
    "line_ani.save('full_line.mp4')"
   ]
  },
  {
   "cell_type": "code",
   "execution_count": null,
   "metadata": {},
   "outputs": [],
   "source": [
    "def update_line(num, myres, line):\n",
    "    line.set_data(myres[..., num-1:num])\n",
    "    return line,\n",
    "\n",
    "fig = plt.figure()\n",
    "\n",
    "l, = plt.plot([], [], 'ro')\n",
    "plt.xlim(0, 15)\n",
    "plt.ylim(0, 4000)\n",
    "plt.xlabel('x')\n",
    "plt.title('test')\n",
    "line_ani = animation.FuncAnimation(fig, update_line, 100, fargs=(myres, l), interval=50, blit=True)\n",
    "\n",
    "line_ani.save('only_traj.mp4')"
   ]
  },
  {
   "cell_type": "code",
   "execution_count": null,
   "metadata": {},
   "outputs": [],
   "source": [
    "from IPython.display import HTML\n",
    "HTML(line_ani.to_html5_video())"
   ]
  },
  {
   "cell_type": "code",
   "execution_count": 25,
   "metadata": {},
   "outputs": [],
   "source": [
    "Nsphere = 10\n",
    "G = 6.67259*(10^(-11))\n",
    "h = 5000\n",
    "b = 10000000"
   ]
  },
  {
   "cell_type": "code",
   "execution_count": 26,
   "metadata": {},
   "outputs": [],
   "source": [
    "M = zeros((Nsphere,1))\n",
    "M[0] = 1.9889e+30  # Masa Sol\n",
    "M[1] = 0.33*(10^24)# Masa Mercurio\n",
    "M[2] = 4.87*(10^24)# Masa Venus\n",
    "M[3] = 5.97*(10^24)# Masa Tierra\n",
    "M[4] = 0.642*(10^24)# Masa Marte\n",
    "M[5] = 1899*(10^24)# Masa Jupiter\n",
    "M[6] = 568*(10^24)# Masa Saturno\n",
    "M[7] = 86.8*(10^24)# Masa Urano\n",
    "M[8] = 102*(10^24)# Masa Neptuno\n",
    "M[9] = 0.0125*(10^24)# Masa Pluton"
   ]
  },
  {
   "cell_type": "code",
   "execution_count": 27,
   "metadata": {},
   "outputs": [],
   "source": [
    "r = zeros((Nsphere,2))\n",
    "r[0,:] = [0, 0]            # Sol\n",
    "r[1,:] = [57.9*(10^9), 0]   # Mercurio\n",
    "r[2,:] = [108.2*(10^9), 0]  # Venus\n",
    "r[3,:] = [149.6*(10^9), 0]  # Tierra\n",
    "r[4,:] = [227.9*(10^9), 0]  # Marte\n",
    "r[5,:] = [778.6*(10^9), 0]  # Jupiter\n",
    "r[6,:] = [1433.5*(10^9), 0] # Saturno\n",
    "r[7,:] = [2872.5*(10^9), 0] # Urano\n",
    "r[8,:] = [4495.1*(10^9), 0] # Neptuno\n",
    "r[9,:] = [5870.0*(10^9), 0] # Pluton"
   ]
  },
  {
   "cell_type": "code",
   "execution_count": 28,
   "metadata": {},
   "outputs": [],
   "source": [
    "v = zeros((Nsphere,2));\n",
    "v[0,:] = [0, 0]\n",
    "v[1,:] = [0, 47.89*(10^3)]\n",
    "v[2,:] = [0, 35.03*(10^3)]\n",
    "v[3,:] = [0, 29.79*(10^3)]\n",
    "v[4,:] = [0, 24.13*(10^3)]\n",
    "v[5,:] = [0, 13.06*(10^3)]\n",
    "v[6,:] = [0, 9.64*(10^3)]\n",
    "v[7,:] = [0, 6.80*(10^3)]\n",
    "v[8,:] = [0, 5.40*(10^3)]\n",
    "v[9,:] = [0, 4.70*(10^3)]"
   ]
  },
  {
   "cell_type": "code",
   "execution_count": 7,
   "metadata": {},
   "outputs": [],
   "source": [
    "fk = lambda r: r / ((linalg.norm(r))**3)"
   ]
  },
  {
   "cell_type": "code",
   "execution_count": 21,
   "metadata": {},
   "outputs": [],
   "source": [
    "def fNB(r,M,k,Nsphere):\n",
    "    a = zeros((Nsphere,2))\n",
    "    for p in range(Nsphere):\n",
    "        for n in range(Nsphere):\n",
    "            if (n != p):\n",
    "                a[p,:] += M[n]*k(r[n,:]-r[p,:])\n",
    "    return a"
   ]
  },
  {
   "cell_type": "code",
   "execution_count": 22,
   "metadata": {},
   "outputs": [],
   "source": [
    "fname = lambda r,M,k,Nsphere: fNB(r,M,k,Nsphere)"
   ]
  },
  {
   "cell_type": "code",
   "execution_count": 23,
   "metadata": {},
   "outputs": [],
   "source": [
    "from pdb import *"
   ]
  },
  {
   "cell_type": "code",
   "execution_count": 24,
   "metadata": {},
   "outputs": [],
   "source": [
    "def euler_fNB(fNB,h,G,b,v0,r0,M,fk,Nsphere):\n",
    "    R = zeros((Nsphere,2,int(b/h)))\n",
    "    vt = v0\n",
    "    rt = r0\n",
    "    i = 0\n",
    "    tt = arange(0,b,h)\n",
    "    for t in tt:\n",
    "        #set_trace()\n",
    "        a = fNB(rt,M,fk,Nsphere)\n",
    "        v = vt + h*G*a\n",
    "        r = rt + h*vt\n",
    "        vt = v\n",
    "        rt = r\n",
    "        R[:,:,i] = rt\n",
    "        i = i+1\n",
    "    return R"
   ]
  },
  {
   "cell_type": "code",
   "execution_count": 29,
   "metadata": {},
   "outputs": [],
   "source": [
    "R = euler_fNB(fname,h,G,b,v,r,M,fk,Nsphere)"
   ]
  },
  {
   "cell_type": "code",
   "execution_count": 30,
   "metadata": {},
   "outputs": [
    {
     "data": {
      "text/plain": [
       "(2, 2000)"
      ]
     },
     "execution_count": 30,
     "metadata": {},
     "output_type": "execute_result"
    }
   ],
   "source": [
    "R[0,:,:].shape"
   ]
  },
  {
   "cell_type": "code",
   "execution_count": 33,
   "metadata": {},
   "outputs": [
    {
     "data": {
      "text/plain": [
       "[<matplotlib.lines.Line2D at 0x7f82c5e5f8d0>]"
      ]
     },
     "execution_count": 33,
     "metadata": {},
     "output_type": "execute_result"
    },
    {
     "data": {
      "image/png": "[encoded data removed]",
      "text/plain": [
       "<Figure size 432x288 with 1 Axes>"
      ]
     },
     "metadata": {
      "needs_background": "light"
     },
     "output_type": "display_data"
    }
   ],
   "source": [
    "plt.plot(R[1,0,:],R[1,1,:],'bo')"
   ]
  },
  {
   "cell_type": "code",
   "execution_count": null,
   "metadata": {},
   "outputs": [],
   "source": []
  }
 ],
 "metadata": {
  "kernelspec": {
   "display_name": "Python 3",
   "language": "python",
   "name": "python3"
  },
  "language_info": {
   "codemirror_mode": {
    "name": "ipython",
    "version": 3
   },
   "file_extension": ".py",
   "mimetype": "text/x-python",
   "name": "python",
   "nbconvert_exporter": "python",
   "pygments_lexer": "ipython3",
   "version": "3.6.7"
  }
 },
 "nbformat": 4,
 "nbformat_minor": 2
}
