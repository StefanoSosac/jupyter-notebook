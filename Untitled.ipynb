{
 "cells": [
  {
   "cell_type": "code",
   "execution_count": 3,
   "metadata": {},
   "outputs": [
    {
     "data": {
      "image/png": "[encoded data removed]",
      "text/plain": [
       "<Figure size 432x288 with 1 Axes>"
      ]
     },
     "metadata": {
      "needs_background": "light"
     },
     "output_type": "display_data"
    }
   ],
   "source": [
    "%matplotlib inline\n",
    "\n",
    "import numpy as np\n",
    "import matplotlib.pyplot as plt\n",
    "import matplotlib.animation as animation\n",
    "\n",
    "x = np.linspace(0,15,100)\n",
    "\n",
    "fig = plt.figure()\n",
    "p1 = fig.add_subplot(111)\n",
    "\n",
    "p1.set_xlim([0,15])\n",
    "p1.set_ylim([0,100])\n",
    "\n",
    "# set up empty lines to be updates later on\n",
    "l1, = p1.plot([],[],'b')\n",
    "l2, = p1.plot([],[],'r')\n",
    "\n",
    "def gen1():\n",
    "    i = 0.5\n",
    "    while(True):\n",
    "        yield i\n",
    "        i += 0.1\n",
    "\n",
    "def gen2():\n",
    "    j = 0\n",
    "    while(True):\n",
    "        yield j\n",
    "        j += 1\n",
    "\n",
    "def run1(c):\n",
    "    y = c*x\n",
    "    l1.set_data(x,y)\n",
    "\n",
    "def run2(c):\n",
    "    y = c*x\n",
    "    l2.set_data(x,y)\n",
    "\n",
    "ani1 = animation.FuncAnimation(fig,run1,gen1,interval=1)\n",
    "ani2 = animation.FuncAnimation(fig,run2,gen2,interval=1)\n",
    "ani1.save(\"plop.mp4\")"
   ]
  },
  {
   "cell_type": "code",
   "execution_count": null,
   "metadata": {},
   "outputs": [],
   "source": []
  }
 ],
 "metadata": {
  "kernelspec": {
   "display_name": "Python 3",
   "language": "python",
   "name": "python3"
  },
  "language_info": {
   "codemirror_mode": {
    "name": "ipython",
    "version": 3
   },
   "file_extension": ".py",
   "mimetype": "text/x-python",
   "name": "python",
   "nbconvert_exporter": "python",
   "pygments_lexer": "ipython3",
   "version": "3.6.7"
  }
 },
 "nbformat": 4,
 "nbformat_minor": 2
}
